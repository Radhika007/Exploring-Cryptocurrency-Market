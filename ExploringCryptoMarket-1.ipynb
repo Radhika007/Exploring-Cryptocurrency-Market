{
 "cells": [
  {
   "cell_type": "code",
   "execution_count": 1,
   "id": "e2bee114",
   "metadata": {},
   "outputs": [],
   "source": [
    "import pandas as pd\n",
    "import seaborn as sns"
   ]
  },
  {
   "cell_type": "code",
   "execution_count": 2,
   "id": "b2b2d88a",
   "metadata": {},
   "outputs": [],
   "source": [
    "current = pd.read_csv('C://Users/Radhika/Desktop/crypto_data.csv')"
   ]
  },
  {
   "cell_type": "code",
   "execution_count": 3,
   "id": "57035b59",
   "metadata": {},
   "outputs": [
    {
     "data": {
      "text/html": [
       "<div>\n",
       "<style scoped>\n",
       "    .dataframe tbody tr th:only-of-type {\n",
       "        vertical-align: middle;\n",
       "    }\n",
       "\n",
       "    .dataframe tbody tr th {\n",
       "        vertical-align: top;\n",
       "    }\n",
       "\n",
       "    .dataframe thead th {\n",
       "        text-align: right;\n",
       "    }\n",
       "</style>\n",
       "<table border=\"1\" class=\"dataframe\">\n",
       "  <thead>\n",
       "    <tr style=\"text-align: right;\">\n",
       "      <th></th>\n",
       "      <th>#</th>\n",
       "      <th>Name</th>\n",
       "      <th>Price</th>\n",
       "      <th>1h %</th>\n",
       "      <th>24h %</th>\n",
       "      <th>7d %</th>\n",
       "      <th>Market Cap</th>\n",
       "      <th>Volume(24h)</th>\n",
       "      <th>Circulating Supply</th>\n",
       "    </tr>\n",
       "  </thead>\n",
       "  <tbody>\n",
       "    <tr>\n",
       "      <th>0</th>\n",
       "      <td>1</td>\n",
       "      <td>Bitcoin</td>\n",
       "      <td>28049.1000</td>\n",
       "      <td>0.0093</td>\n",
       "      <td>0.0157</td>\n",
       "      <td>0.0510</td>\n",
       "      <td>541979769134</td>\n",
       "      <td>29810382415</td>\n",
       "      <td>19,326,843 BTC</td>\n",
       "    </tr>\n",
       "    <tr>\n",
       "      <th>1</th>\n",
       "      <td>2</td>\n",
       "      <td>Ethereum</td>\n",
       "      <td>1777.6800</td>\n",
       "      <td>0.0040</td>\n",
       "      <td>0.0116</td>\n",
       "      <td>0.0203</td>\n",
       "      <td>217489450675</td>\n",
       "      <td>12596925163</td>\n",
       "      <td>122,373,866 ETH</td>\n",
       "    </tr>\n",
       "    <tr>\n",
       "      <th>2</th>\n",
       "      <td>3</td>\n",
       "      <td>Tether</td>\n",
       "      <td>1.0000</td>\n",
       "      <td>0.0002</td>\n",
       "      <td>0.0009</td>\n",
       "      <td>0.0016</td>\n",
       "      <td>78563728008</td>\n",
       "      <td>47083612512</td>\n",
       "      <td>78,486,103,416 USDT</td>\n",
       "    </tr>\n",
       "    <tr>\n",
       "      <th>3</th>\n",
       "      <td>4</td>\n",
       "      <td>BNB</td>\n",
       "      <td>323.4800</td>\n",
       "      <td>0.0010</td>\n",
       "      <td>0.0035</td>\n",
       "      <td>0.0257</td>\n",
       "      <td>51074737821</td>\n",
       "      <td>539664683</td>\n",
       "      <td>157,890,097 BNB</td>\n",
       "    </tr>\n",
       "    <tr>\n",
       "      <th>4</th>\n",
       "      <td>5</td>\n",
       "      <td>USD Coin</td>\n",
       "      <td>0.9998</td>\n",
       "      <td>0.0003</td>\n",
       "      <td>0.0008</td>\n",
       "      <td>0.0003</td>\n",
       "      <td>34397891024</td>\n",
       "      <td>6504262436</td>\n",
       "      <td>34,406,305,359 USDC</td>\n",
       "    </tr>\n",
       "  </tbody>\n",
       "</table>\n",
       "</div>"
      ],
      "text/plain": [
       "   #      Name       Price    1h %   24h %    7d %    Market Cap  Volume(24h)  \\\n",
       "0  1   Bitcoin  28049.1000  0.0093  0.0157  0.0510  541979769134  29810382415   \n",
       "1  2  Ethereum   1777.6800  0.0040  0.0116  0.0203  217489450675  12596925163   \n",
       "2  3    Tether      1.0000  0.0002  0.0009  0.0016   78563728008  47083612512   \n",
       "3  4       BNB    323.4800  0.0010  0.0035  0.0257   51074737821    539664683   \n",
       "4  5  USD Coin      0.9998  0.0003  0.0008  0.0003   34397891024   6504262436   \n",
       "\n",
       "    Circulating Supply  \n",
       "0       19,326,843 BTC  \n",
       "1      122,373,866 ETH  \n",
       "2  78,486,103,416 USDT  \n",
       "3      157,890,097 BNB  \n",
       "4  34,406,305,359 USDC  "
      ]
     },
     "execution_count": 3,
     "metadata": {},
     "output_type": "execute_result"
    }
   ],
   "source": [
    "current.head()"
   ]
  },
  {
   "cell_type": "code",
   "execution_count": 5,
   "id": "9d431797",
   "metadata": {},
   "outputs": [
    {
     "name": "stdout",
     "output_type": "stream",
     "text": [
      "<class 'pandas.core.frame.DataFrame'>\n",
      "RangeIndex: 10 entries, 0 to 9\n",
      "Data columns (total 9 columns):\n",
      " #   Column              Non-Null Count  Dtype  \n",
      "---  ------              --------------  -----  \n",
      " 0   #                   10 non-null     int64  \n",
      " 1   Name                10 non-null     object \n",
      " 2   Price               10 non-null     float64\n",
      " 3   1h %                10 non-null     float64\n",
      " 4   24h %               10 non-null     float64\n",
      " 5   7d %                10 non-null     float64\n",
      " 6   Market Cap          10 non-null     int64  \n",
      " 7   Volume(24h)         10 non-null     int64  \n",
      " 8   Circulating Supply  10 non-null     object \n",
      "dtypes: float64(4), int64(3), object(2)\n",
      "memory usage: 848.0+ bytes\n"
     ]
    }
   ],
   "source": [
    "current.info()"
   ]
  },
  {
   "cell_type": "code",
   "execution_count": 7,
   "id": "6d53bd3d",
   "metadata": {},
   "outputs": [],
   "source": [
    "current['Perc_MarketCap'] = (current['Market Cap']/sum(current['Market Cap']))*100"
   ]
  },
  {
   "cell_type": "code",
   "execution_count": 8,
   "id": "7dba7512",
   "metadata": {},
   "outputs": [
    {
     "data": {
      "text/html": [
       "<div>\n",
       "<style scoped>\n",
       "    .dataframe tbody tr th:only-of-type {\n",
       "        vertical-align: middle;\n",
       "    }\n",
       "\n",
       "    .dataframe tbody tr th {\n",
       "        vertical-align: top;\n",
       "    }\n",
       "\n",
       "    .dataframe thead th {\n",
       "        text-align: right;\n",
       "    }\n",
       "</style>\n",
       "<table border=\"1\" class=\"dataframe\">\n",
       "  <thead>\n",
       "    <tr style=\"text-align: right;\">\n",
       "      <th></th>\n",
       "      <th>#</th>\n",
       "      <th>Name</th>\n",
       "      <th>Price</th>\n",
       "      <th>1h %</th>\n",
       "      <th>24h %</th>\n",
       "      <th>7d %</th>\n",
       "      <th>Market Cap</th>\n",
       "      <th>Volume(24h)</th>\n",
       "      <th>Circulating Supply</th>\n",
       "      <th>Perc_MarketCap</th>\n",
       "    </tr>\n",
       "  </thead>\n",
       "  <tbody>\n",
       "    <tr>\n",
       "      <th>0</th>\n",
       "      <td>1</td>\n",
       "      <td>Bitcoin</td>\n",
       "      <td>28049.1000</td>\n",
       "      <td>0.0093</td>\n",
       "      <td>0.0157</td>\n",
       "      <td>0.0510</td>\n",
       "      <td>541979769134</td>\n",
       "      <td>29810382415</td>\n",
       "      <td>19,326,843 BTC</td>\n",
       "      <td>54.969210</td>\n",
       "    </tr>\n",
       "    <tr>\n",
       "      <th>1</th>\n",
       "      <td>2</td>\n",
       "      <td>Ethereum</td>\n",
       "      <td>1777.6800</td>\n",
       "      <td>0.0040</td>\n",
       "      <td>0.0116</td>\n",
       "      <td>0.0203</td>\n",
       "      <td>217489450675</td>\n",
       "      <td>12596925163</td>\n",
       "      <td>122,373,866 ETH</td>\n",
       "      <td>22.058431</td>\n",
       "    </tr>\n",
       "    <tr>\n",
       "      <th>2</th>\n",
       "      <td>3</td>\n",
       "      <td>Tether</td>\n",
       "      <td>1.0000</td>\n",
       "      <td>0.0002</td>\n",
       "      <td>0.0009</td>\n",
       "      <td>0.0016</td>\n",
       "      <td>78563728008</td>\n",
       "      <td>47083612512</td>\n",
       "      <td>78,486,103,416 USDT</td>\n",
       "      <td>7.968168</td>\n",
       "    </tr>\n",
       "    <tr>\n",
       "      <th>3</th>\n",
       "      <td>4</td>\n",
       "      <td>BNB</td>\n",
       "      <td>323.4800</td>\n",
       "      <td>0.0010</td>\n",
       "      <td>0.0035</td>\n",
       "      <td>0.0257</td>\n",
       "      <td>51074737821</td>\n",
       "      <td>539664683</td>\n",
       "      <td>157,890,097 BNB</td>\n",
       "      <td>5.180153</td>\n",
       "    </tr>\n",
       "    <tr>\n",
       "      <th>4</th>\n",
       "      <td>5</td>\n",
       "      <td>USD Coin</td>\n",
       "      <td>0.9998</td>\n",
       "      <td>0.0003</td>\n",
       "      <td>0.0008</td>\n",
       "      <td>0.0003</td>\n",
       "      <td>34397891024</td>\n",
       "      <td>6504262436</td>\n",
       "      <td>34,406,305,359 USDC</td>\n",
       "      <td>3.488737</td>\n",
       "    </tr>\n",
       "  </tbody>\n",
       "</table>\n",
       "</div>"
      ],
      "text/plain": [
       "   #      Name       Price    1h %   24h %    7d %    Market Cap  Volume(24h)  \\\n",
       "0  1   Bitcoin  28049.1000  0.0093  0.0157  0.0510  541979769134  29810382415   \n",
       "1  2  Ethereum   1777.6800  0.0040  0.0116  0.0203  217489450675  12596925163   \n",
       "2  3    Tether      1.0000  0.0002  0.0009  0.0016   78563728008  47083612512   \n",
       "3  4       BNB    323.4800  0.0010  0.0035  0.0257   51074737821    539664683   \n",
       "4  5  USD Coin      0.9998  0.0003  0.0008  0.0003   34397891024   6504262436   \n",
       "\n",
       "    Circulating Supply  Perc_MarketCap  \n",
       "0       19,326,843 BTC       54.969210  \n",
       "1      122,373,866 ETH       22.058431  \n",
       "2  78,486,103,416 USDT        7.968168  \n",
       "3      157,890,097 BNB        5.180153  \n",
       "4  34,406,305,359 USDC        3.488737  "
      ]
     },
     "execution_count": 8,
     "metadata": {},
     "output_type": "execute_result"
    }
   ],
   "source": [
    "current.head()"
   ]
  },
  {
   "cell_type": "code",
   "execution_count": 9,
   "id": "d97301ae",
   "metadata": {},
   "outputs": [],
   "source": [
    "current['Perc_MarketCap'] = round(current['Perc_MarketCap'],0)"
   ]
  },
  {
   "cell_type": "code",
   "execution_count": 10,
   "id": "6bdc6c8d",
   "metadata": {},
   "outputs": [
    {
     "data": {
      "text/html": [
       "<div>\n",
       "<style scoped>\n",
       "    .dataframe tbody tr th:only-of-type {\n",
       "        vertical-align: middle;\n",
       "    }\n",
       "\n",
       "    .dataframe tbody tr th {\n",
       "        vertical-align: top;\n",
       "    }\n",
       "\n",
       "    .dataframe thead th {\n",
       "        text-align: right;\n",
       "    }\n",
       "</style>\n",
       "<table border=\"1\" class=\"dataframe\">\n",
       "  <thead>\n",
       "    <tr style=\"text-align: right;\">\n",
       "      <th></th>\n",
       "      <th>#</th>\n",
       "      <th>Name</th>\n",
       "      <th>Price</th>\n",
       "      <th>1h %</th>\n",
       "      <th>24h %</th>\n",
       "      <th>7d %</th>\n",
       "      <th>Market Cap</th>\n",
       "      <th>Volume(24h)</th>\n",
       "      <th>Circulating Supply</th>\n",
       "      <th>Perc_MarketCap</th>\n",
       "    </tr>\n",
       "  </thead>\n",
       "  <tbody>\n",
       "    <tr>\n",
       "      <th>0</th>\n",
       "      <td>1</td>\n",
       "      <td>Bitcoin</td>\n",
       "      <td>28049.1000</td>\n",
       "      <td>0.0093</td>\n",
       "      <td>0.0157</td>\n",
       "      <td>0.0510</td>\n",
       "      <td>541979769134</td>\n",
       "      <td>29810382415</td>\n",
       "      <td>19,326,843 BTC</td>\n",
       "      <td>55.0</td>\n",
       "    </tr>\n",
       "    <tr>\n",
       "      <th>1</th>\n",
       "      <td>2</td>\n",
       "      <td>Ethereum</td>\n",
       "      <td>1777.6800</td>\n",
       "      <td>0.0040</td>\n",
       "      <td>0.0116</td>\n",
       "      <td>0.0203</td>\n",
       "      <td>217489450675</td>\n",
       "      <td>12596925163</td>\n",
       "      <td>122,373,866 ETH</td>\n",
       "      <td>22.0</td>\n",
       "    </tr>\n",
       "    <tr>\n",
       "      <th>2</th>\n",
       "      <td>3</td>\n",
       "      <td>Tether</td>\n",
       "      <td>1.0000</td>\n",
       "      <td>0.0002</td>\n",
       "      <td>0.0009</td>\n",
       "      <td>0.0016</td>\n",
       "      <td>78563728008</td>\n",
       "      <td>47083612512</td>\n",
       "      <td>78,486,103,416 USDT</td>\n",
       "      <td>8.0</td>\n",
       "    </tr>\n",
       "    <tr>\n",
       "      <th>3</th>\n",
       "      <td>4</td>\n",
       "      <td>BNB</td>\n",
       "      <td>323.4800</td>\n",
       "      <td>0.0010</td>\n",
       "      <td>0.0035</td>\n",
       "      <td>0.0257</td>\n",
       "      <td>51074737821</td>\n",
       "      <td>539664683</td>\n",
       "      <td>157,890,097 BNB</td>\n",
       "      <td>5.0</td>\n",
       "    </tr>\n",
       "    <tr>\n",
       "      <th>4</th>\n",
       "      <td>5</td>\n",
       "      <td>USD Coin</td>\n",
       "      <td>0.9998</td>\n",
       "      <td>0.0003</td>\n",
       "      <td>0.0008</td>\n",
       "      <td>0.0003</td>\n",
       "      <td>34397891024</td>\n",
       "      <td>6504262436</td>\n",
       "      <td>34,406,305,359 USDC</td>\n",
       "      <td>3.0</td>\n",
       "    </tr>\n",
       "  </tbody>\n",
       "</table>\n",
       "</div>"
      ],
      "text/plain": [
       "   #      Name       Price    1h %   24h %    7d %    Market Cap  Volume(24h)  \\\n",
       "0  1   Bitcoin  28049.1000  0.0093  0.0157  0.0510  541979769134  29810382415   \n",
       "1  2  Ethereum   1777.6800  0.0040  0.0116  0.0203  217489450675  12596925163   \n",
       "2  3    Tether      1.0000  0.0002  0.0009  0.0016   78563728008  47083612512   \n",
       "3  4       BNB    323.4800  0.0010  0.0035  0.0257   51074737821    539664683   \n",
       "4  5  USD Coin      0.9998  0.0003  0.0008  0.0003   34397891024   6504262436   \n",
       "\n",
       "    Circulating Supply  Perc_MarketCap  \n",
       "0       19,326,843 BTC            55.0  \n",
       "1      122,373,866 ETH            22.0  \n",
       "2  78,486,103,416 USDT             8.0  \n",
       "3      157,890,097 BNB             5.0  \n",
       "4  34,406,305,359 USDC             3.0  "
      ]
     },
     "execution_count": 10,
     "metadata": {},
     "output_type": "execute_result"
    }
   ],
   "source": [
    "current.head()"
   ]
  },
  {
   "cell_type": "code",
   "execution_count": 11,
   "id": "03d6a3e9",
   "metadata": {},
   "outputs": [
    {
     "data": {
      "text/plain": [
       "<AxesSubplot:xlabel='Name', ylabel='Perc_MarketCap'>"
      ]
     },
     "execution_count": 11,
     "metadata": {},
     "output_type": "execute_result"
    },
    {
     "data": {
      "image/png": "[encoded data removed]",
      "text/plain": [
       "<Figure size 432x288 with 1 Axes>"
      ]
     },
     "metadata": {
      "needs_background": "light"
     },
     "output_type": "display_data"
    }
   ],
   "source": [
    "# How big is Bitcoin comapred to the rest of the cryptocurrencies?\n",
    "sns.barplot(x='Name',y='Perc_MarketCap',data=current)"
   ]
  },
  {
   "cell_type": "code",
   "execution_count": 12,
   "id": "8e7c8bec",
   "metadata": {},
   "outputs": [
    {
     "data": {
      "text/plain": [
       "<AxesSubplot:xlabel='Name'>"
      ]
     },
     "execution_count": 12,
     "metadata": {},
     "output_type": "execute_result"
    },
    {
     "data": {
      "image/png": "[encoded data removed]",
      "text/plain": [
       "<Figure size 432x288 with 1 Axes>"
      ]
     },
     "metadata": {
      "needs_background": "light"
     },
     "output_type": "display_data"
    }
   ],
   "source": [
    "import matplotlib.pyplot as plt\n",
    "current.plot.bar(x='Name',y='Perc_MarketCap')"
   ]
  },
  {
   "cell_type": "code",
   "execution_count": 16,
   "id": "ca5f6723",
   "metadata": {},
   "outputs": [
    {
     "data": {
      "text/plain": [
       "Text(0, 0.5, '% of market cap')"
      ]
     },
     "execution_count": 16,
     "metadata": {},
     "output_type": "execute_result"
    },
    {
     "data": {
      "image/png": "[encoded data removed]",
      "text/plain": [
       "<Figure size 432x288 with 1 Axes>"
      ]
     },
     "metadata": {
      "needs_background": "light"
     },
     "output_type": "display_data"
    }
   ],
   "source": [
    "Colors = ['blue','green','yellow','pink','orange','purple','cyan','gold','silver','black']\n",
    "ax = current.plot.bar(x='Name',y='Perc_MarketCap',color=Colors,title='Top 10 market capitalization')\n",
    "ax.set_ylabel('% of market cap')"
   ]
  },
  {
   "cell_type": "code",
   "execution_count": 17,
   "id": "3528aa6d",
   "metadata": {},
   "outputs": [
    {
     "data": {
      "text/plain": [
       "Text(0, 0.5, 'USD')"
      ]
     },
     "execution_count": 17,
     "metadata": {},
     "output_type": "execute_result"
    },
    {
     "data": {
      "image/png": "[encoded data removed]",
      "text/plain": [
       "<Figure size 432x288 with 1 Axes>"
      ]
     },
     "metadata": {
      "needs_background": "light"
     },
     "output_type": "display_data"
    }
   ],
   "source": [
    "Colors = ['blue','green','yellow','pink','orange','purple','cyan','gold','silver','black']\n",
    "ax = current.plot.bar(x='Name',y='Market Cap',color=Colors,title='Top 10 market capitalization')\n",
    "ax.set_ylabel('USD')"
   ]
  },
  {
   "cell_type": "code",
   "execution_count": null,
   "id": "76389173",
   "metadata": {},
   "outputs": [],
   "source": []
  }
 ],
 "metadata": {
  "kernelspec": {
   "display_name": "Python 3 (ipykernel)",
   "language": "python",
   "name": "python3"
  },
  "language_info": {
   "codemirror_mode": {
    "name": "ipython",
    "version": 3
   },
   "file_extension": ".py",
   "mimetype": "text/x-python",
   "name": "python",
   "nbconvert_exporter": "python",
   "pygments_lexer": "ipython3",
   "version": "3.9.7"
  }
 },
 "nbformat": 4,
 "nbformat_minor": 5
}
